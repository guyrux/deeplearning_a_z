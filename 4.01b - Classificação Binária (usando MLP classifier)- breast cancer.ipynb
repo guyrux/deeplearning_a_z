{
 "cells": [
  {
   "cell_type": "markdown",
   "metadata": {},
   "source": [
    "# Seção 4: Classificação Binária (usando MLP classifier)- breast cancer\n",
    "Os dados utilizados neste notebook foram tirados da página [Breast Cancer Wisconsin (Diagnostic) Data Set](https://archive.ics.uci.edu/ml/datasets/Breast+Cancer+Wisconsin+%28Diagnostic%29).\n",
    "\n",
    "Esse notebook diferencia-se do anterior (4.01) pois esse usa o pacote MLP Classifier da biblioteca Sklearn."
   ]
  },
  {
   "cell_type": "markdown",
   "metadata": {},
   "source": [
    "## Importação das bibliotecas"
   ]
  },
  {
   "cell_type": "code",
   "execution_count": 2,
   "metadata": {
    "tags": []
   },
   "outputs": [],
   "source": [
    "import pandas as pd\n",
    "import numpy as np\n",
    "\n",
    "import matplotlib.pyplot as plt\n",
    "import seaborn as sns\n",
    "\n",
    "from sklearn.model_selection import train_test_split\n",
    "\n",
    "import keras\n",
    "from keras.models import Sequential\n",
    "from keras.layers import Dense\n",
    "\n",
    "from sklearn.neural_network import MLPClassifier\n",
    "\n",
    "from sklearn.metrics import classification_report, confusion_matrix"
   ]
  },
  {
   "cell_type": "markdown",
   "metadata": {},
   "source": [
    "## Importação das bases"
   ]
  },
  {
   "cell_type": "code",
   "execution_count": 3,
   "metadata": {
    "tags": []
   },
   "outputs": [
    {
     "name": "stdout",
     "output_type": "stream",
     "text": [
      "- Formato do dataframe df_inputs: (569, 30)\n",
      "- Formato do dataframe df_outputs: (569, 1)\n"
     ]
    }
   ],
   "source": [
    "df_inputs = pd.read_csv(\"./99_bases/entradas_breast.csv\")\n",
    "df_outputs = pd.read_csv(\"./99_bases/saidas_breast.csv\")\n",
    "\n",
    "print(f\"\"\"- Formato do dataframe df_inputs: {df_inputs.shape}\n",
    "- Formato do dataframe df_outputs: {df_outputs.shape}\"\"\")"
   ]
  },
  {
   "cell_type": "markdown",
   "metadata": {},
   "source": [
    "### Análise das bases importadas:"
   ]
  },
  {
   "cell_type": "code",
   "execution_count": 4,
   "metadata": {},
   "outputs": [],
   "source": [
    "# df_description = pd.DataFrame()\n",
    "# for feature in df_inputs.columns:\n",
    "    "
   ]
  },
  {
   "cell_type": "markdown",
   "metadata": {},
   "source": [
    "### Pre-processamento"
   ]
  },
  {
   "cell_type": "code",
   "execution_count": 5,
   "metadata": {
    "tags": []
   },
   "outputs": [
    {
     "name": "stdout",
     "output_type": "stream",
     "text": [
      "(455, 30) e (455, 1)\n",
      "(114, 30) e (114, 1)\n"
     ]
    }
   ],
   "source": [
    "X_train, X_test, y_train, y_test = train_test_split(df_inputs, df_outputs, test_size=.2)\n",
    "\n",
    "print(f\"\"\"{X_train.shape} e {y_train.shape}\n",
    "{X_test.shape} e {y_test.shape}\"\"\")"
   ]
  },
  {
   "cell_type": "markdown",
   "metadata": {},
   "source": [
    "### Modelo"
   ]
  },
  {
   "cell_type": "code",
   "execution_count": 6,
   "metadata": {
    "tags": []
   },
   "outputs": [],
   "source": [
    "model = Sequential()\n",
    "\n",
    "# Camada de entrada e intermediária\n",
    "model.add(Dense(units=16, activation='relu', kernel_initializer='random_uniform', input_dim=30))\n",
    "\n",
    "# Camada intermediária ou oculta\n",
    "model.add(Dense(units=16, activation='relu', kernel_initializer='random_uniform'))\n",
    "model.add(Dense(units=16, activation='relu', kernel_initializer='random_uniform'))\n",
    "model.add(Dense(units=16, activation='relu', kernel_initializer='random_uniform'))\n",
    "\n",
    "# Camada de saída\n",
    "model.add(Dense(units=1, activation='sigmoid'))\n",
    "\n",
    "optimizer = keras.optimizers.Adam(learning_rate=0.001, decay=0.0001, clipvalue=0.05)\n",
    "\n",
    "model.compile(optimizer=optimizer, loss='binary_crossentropy', metrics=['binary_accuracy'])\n",
    "\n",
    "# model.compile(optimizer='adam', loss='binary_crossentropy', metrics=['binary_accuracy'])\n",
    "\n",
    "model.fit(X_train, y_train, batch_size=20, epochs=100, verbose=False);"
   ]
  },
  {
   "cell_type": "code",
   "execution_count": 7,
   "metadata": {
    "tags": []
   },
   "outputs": [
    {
     "name": "stdout",
     "output_type": "stream",
     "text": [
      "              precision    recall  f1-score   support\n",
      "\n",
      "           0       1.00      0.67      0.80        54\n",
      "           1       0.77      1.00      0.87        60\n",
      "\n",
      "    accuracy                           0.84       114\n",
      "   macro avg       0.88      0.83      0.83       114\n",
      "weighted avg       0.88      0.84      0.84       114\n",
      "\n",
      "[[36 18]\n",
      " [ 0 60]]\n"
     ]
    }
   ],
   "source": [
    "y_pred = model.predict(X_test)\n",
    "y_pred = np.where(y_pred>.5,1,0)\n",
    "\n",
    "print(classification_report(y_test, y_pred))\n",
    "\n",
    "print(confusion_matrix(y_test, y_pred))"
   ]
  },
  {
   "cell_type": "markdown",
   "metadata": {},
   "source": [
    "## Pegando os pesos"
   ]
  },
  {
   "cell_type": "code",
   "execution_count": 8,
   "metadata": {},
   "outputs": [
    {
     "data": {
      "text/plain": [
       "[array([[-0.09090163,  0.06492862,  0.04865545,  0.10076027,  0.00721448,\n",
       "         -0.2314021 , -0.13886613,  0.06165872,  0.3488461 ,  0.09849939,\n",
       "          0.08983129,  0.04919771, -0.08431541,  0.15562612,  0.02311489,\n",
       "          0.17089935],\n",
       "        [-0.16346535, -0.03672048,  0.03062365, -0.01070545,  0.13795711,\n",
       "          0.0211038 ,  0.02791181, -0.13328658,  0.35996577, -0.14220804,\n",
       "         -0.029176  , -0.21588582,  0.08199998, -0.09740059, -0.13436615,\n",
       "          0.07101137],\n",
       "        [ 0.05127445,  0.04143243,  0.18511227,  0.09161936, -0.04862555,\n",
       "         -0.1429234 , -0.10213716,  0.02375954,  0.20927523,  0.05188238,\n",
       "          0.11760744, -0.10524945, -0.12620947,  0.08906788, -0.02588664,\n",
       "          0.16809641],\n",
       "        [-0.05200257,  0.07529589,  0.12789714,  0.00729704, -0.05348637,\n",
       "          0.02122619, -0.00862603,  0.00515032,  0.04985984,  0.05983972,\n",
       "          0.07419576,  0.11943019,  0.0091015 ,  0.08146503,  0.01389862,\n",
       "          0.01547109],\n",
       "        [ 0.2060459 , -0.05865721, -0.07643045,  0.1004511 , -0.06066147,\n",
       "          0.12425789,  0.0383447 , -0.11992155,  0.1289648 , -0.11082873,\n",
       "         -0.06576139, -0.18710452,  0.10366557, -0.17372328,  0.08300122,\n",
       "         -0.0887319 ],\n",
       "        [-0.26469657, -0.05126939, -0.14985906, -0.15323277, -0.12581863,\n",
       "          0.04760335, -0.03138698, -0.12888448,  0.01468655, -0.07387356,\n",
       "          0.05219466, -0.32644   , -0.23967826, -0.08296882, -0.08764847,\n",
       "         -0.05312995],\n",
       "        [ 0.1680059 , -0.06219769, -0.0402489 , -0.07779666, -0.12969851,\n",
       "          0.08356393,  0.07489242, -0.02285245,  0.1703464 , -0.06960223,\n",
       "         -0.04977951, -0.14518568,  0.2333975 , -0.12179132, -0.0096329 ,\n",
       "         -0.08364388],\n",
       "        [ 0.12399204,  0.11904857, -0.13017021, -0.10488268, -0.02248253,\n",
       "         -0.16893546, -0.19011198,  0.14766723,  0.00850587,  0.11217358,\n",
       "          0.11266189,  0.03160959, -0.23001496,  0.1600352 ,  0.21184088,\n",
       "         -0.04972832],\n",
       "        [-0.14758478,  0.09102945,  0.07645569,  0.05010287,  0.14351869,\n",
       "         -0.13512836, -0.10380829,  0.11998241,  0.23757723,  0.06697425,\n",
       "          0.06601167, -0.05517815, -0.05597145,  0.08760798,  0.0728664 ,\n",
       "          0.10669787],\n",
       "        [ 0.2877729 , -0.06307783,  0.22689554, -0.04095422, -0.21595971,\n",
       "         -0.03871595, -0.03280099, -0.15462925, -0.0469867 , -0.07687976,\n",
       "          0.00293476, -0.07960134,  0.06845336, -0.12481888, -0.2559235 ,\n",
       "          0.2619684 ],\n",
       "        [ 0.05036084,  0.05869986, -0.01101945, -0.04335975,  0.03362319,\n",
       "          0.00686245, -0.05933522, -0.07841951,  0.14816134, -0.0039404 ,\n",
       "          0.05893168, -0.11412155, -0.21063802,  0.02962115, -0.09408465,\n",
       "          0.0239164 ],\n",
       "        [ 0.03020101,  0.02566556, -0.41110998,  0.04347134, -0.02653257,\n",
       "         -0.03715577, -0.06016943,  0.08873399, -0.01503484,  0.02271788,\n",
       "          0.06641877,  0.01230749,  0.02932656,  0.11600048,  0.08614089,\n",
       "         -0.00192882],\n",
       "        [ 0.04273715, -0.02249754,  0.07326937,  0.0329492 ,  0.00270741,\n",
       "          0.07130142,  0.08262271,  0.02660453, -0.12790772,  0.00985955,\n",
       "         -0.01256898,  0.0137017 , -0.02258483, -0.00670634,  0.0434483 ,\n",
       "          0.00787256],\n",
       "        [ 0.09919164, -0.2094094 , -0.21303752, -0.13764578,  0.00428023,\n",
       "          0.11235081,  0.05676938, -0.17803496,  0.00257826, -0.2213365 ,\n",
       "          0.13192451, -0.35332692, -0.00092352, -0.3258659 , -0.30291823,\n",
       "          0.04345514],\n",
       "        [-0.19654736, -0.10029325,  0.09191497, -0.03657117,  0.11354217,\n",
       "         -0.06050712, -0.02984627, -0.20981036,  0.14963774, -0.12062618,\n",
       "         -0.04022779, -0.16681474,  0.09412929, -0.15012127, -0.22086489,\n",
       "          0.06715761],\n",
       "        [-0.07928194,  0.14793828, -0.39799476,  0.03876841,  0.17455295,\n",
       "         -0.2092278 , -0.10961477,  0.21059126, -0.06877694,  0.12583388,\n",
       "          0.11697131, -0.03421342, -0.23476456,  0.09802167,  0.25258046,\n",
       "          0.00464443],\n",
       "        [-0.05215641,  0.19216867, -0.05875611,  0.10696407, -0.01561152,\n",
       "         -0.23796113, -0.20774935,  0.29028535,  0.03107868,  0.09924816,\n",
       "          0.22602421,  0.14627816, -0.35757136,  0.1606829 ,  0.268881  ,\n",
       "          0.05995272],\n",
       "        [ 0.18759848,  0.17195517,  0.06525506,  0.09415698, -0.15568666,\n",
       "         -0.25060955, -0.2892527 ,  0.2619753 , -0.0932193 ,  0.19868883,\n",
       "          0.18505445,  0.37352264, -0.39396113,  0.2602801 ,  0.24623178,\n",
       "          0.10748051],\n",
       "        [ 0.15983655,  0.02752342,  0.42718458,  0.07960121, -0.42445573,\n",
       "          0.24534316,  0.07246505, -0.28847194,  0.24446593,  0.00964575,\n",
       "          0.11064589, -0.3677566 ,  0.19352612,  0.14231555, -0.4516126 ,\n",
       "         -0.00407567],\n",
       "        [-0.32213795, -0.24447198, -0.22950406, -0.11143202,  0.08864607,\n",
       "          0.44238958,  0.36036307, -0.3988529 ,  0.16542833, -0.28270432,\n",
       "         -0.24745871, -0.432942  ,  0.39354026, -0.36645323, -0.38432312,\n",
       "         -0.2970164 ],\n",
       "        [-0.05689114, -0.03449621, -0.00983916,  0.06241941, -0.00655446,\n",
       "         -0.12313838, -0.1410667 ,  0.00063176,  0.2719924 ,  0.02863283,\n",
       "          0.04845716, -0.02507174, -0.06045171, -0.01180356,  0.01040559,\n",
       "          0.08564825],\n",
       "        [-0.22698547, -0.11999718, -0.04342035, -0.06692369,  0.10717556,\n",
       "          0.06610344,  0.13573901, -0.25934467,  0.44723228, -0.20468158,\n",
       "         -0.10752506, -0.28479764,  0.09106194, -0.14963622, -0.22883965,\n",
       "         -0.00541386],\n",
       "        [-0.03547665,  0.04573473,  0.11911494,  0.03170929, -0.04799101,\n",
       "         -0.07573414, -0.06788324,  0.04156823,  0.23008503,  0.0785467 ,\n",
       "          0.10949981, -0.1346391 , -0.09152393,  0.07463815, -0.0427291 ,\n",
       "          0.1323846 ],\n",
       "        [-0.10233819, -0.07228456, -0.04126494, -0.03871893,  0.04176427,\n",
       "          0.08914385,  0.13346341, -0.04443398,  0.05547329, -0.05341751,\n",
       "         -0.04012873,  0.06036664,  0.06278846, -0.02980141, -0.07565206,\n",
       "         -0.02874569],\n",
       "        [-0.04512454, -0.07808737,  0.3009314 , -0.05347541,  0.01600927,\n",
       "          0.060767  ,  0.03762454, -0.2918704 ,  0.0974018 , -0.22616528,\n",
       "          0.03666108, -0.2145961 ,  0.01494785, -0.2515899 , -0.21342391,\n",
       "          0.10427366],\n",
       "        [-0.03666935,  0.0243506 ,  0.12758176, -0.05200685,  0.08222387,\n",
       "          0.01748776, -0.06546788, -0.01176901,  0.2095642 , -0.02592755,\n",
       "          0.08782126, -0.14855014,  0.0114856 ,  0.00267873,  0.01105838,\n",
       "          0.0532516 ],\n",
       "        [ 0.26255456, -0.00750631,  0.12674852, -0.00935757,  0.08504824,\n",
       "         -0.06093765, -0.06187106,  0.00442953,  0.15419526, -0.03186051,\n",
       "          0.1306305 , -0.18388602,  0.04665355, -0.06846774,  0.06620824,\n",
       "          0.05860457],\n",
       "        [-0.01376726, -0.01447658, -0.07756931, -0.02737331,  0.24834318,\n",
       "          0.10358795,  0.03805216, -0.0175696 , -0.13627695, -0.04511208,\n",
       "          0.00096526,  0.06687307, -0.00064835, -0.0600959 , -0.05670109,\n",
       "          0.00201712],\n",
       "        [ 0.24016766, -0.0267321 ,  0.18468484, -0.16366997,  0.03696044,\n",
       "         -0.02210649,  0.0561727 , -0.16314629,  0.05728384, -0.04051153,\n",
       "          0.06668732, -0.1289461 , -0.02998435, -0.00680208, -0.14870206,\n",
       "          0.02626518],\n",
       "        [-0.19362676, -0.25551906, -0.22522874, -0.260845  ,  0.05112045,\n",
       "          0.31069058,  0.27058542, -0.3455561 ,  0.00321738, -0.31945872,\n",
       "         -0.2971809 , -0.39591092,  0.18526739, -0.34990355, -0.44292364,\n",
       "         -0.21109919]], dtype=float32),\n",
       " array([ 0.06670999,  0.16067128,  0.27041012,  0.21306045, -0.22261746,\n",
       "        -0.46575946, -0.40169027,  0.21421877,  0.25746694,  0.19635199,\n",
       "         0.25357962,  0.08068191, -0.30944505,  0.23816445,  0.1664273 ,\n",
       "         0.3942516 ], dtype=float32)]"
      ]
     },
     "execution_count": 8,
     "metadata": {},
     "output_type": "execute_result"
    }
   ],
   "source": [
    "pesos0 = model.layers[0].get_weights()\n",
    "pesos0[:,]"
   ]
  },
  {
   "cell_type": "code",
   "execution_count": 9,
   "metadata": {},
   "outputs": [],
   "source": [
    "model_sklearn = MLPClassifier(hidden_layer_sizes=16, activation='relu', solver='adam', alpha=0.0001, batch_size='auto',\n",
    "                              learning_rate='constant', learning_rate_init=0.001, power_t=0.5, max_iter=500, shuffle=True,\n",
    "                              random_state=42, tol=0.0001, verbose=False, warm_start=False, momentum=0.9, nesterovs_momentum=True,\n",
    "                              early_stopping=False, validation_fraction=0.1, beta_1=0.9, beta_2=0.999, epsilon=1e-08,\n",
    "                              n_iter_no_change=10, max_fun=15000)\n",
    "\n",
    "model_sklearn.fit(X_train, y_train.values[:,0])\n",
    "\n",
    "y_pred_sklearn = model_sklearn.predict_proba(X_test)\n",
    "y_pred_sklearn = np.where(y_pred_sklearn[:,1]>.5,1,0)"
   ]
  },
  {
   "cell_type": "code",
   "execution_count": 10,
   "metadata": {
    "tags": []
   },
   "outputs": [
    {
     "name": "stdout",
     "output_type": "stream",
     "text": [
      "              precision    recall  f1-score   support\n",
      "\n",
      "           0       0.91      0.80      0.85        54\n",
      "           1       0.84      0.93      0.88        60\n",
      "\n",
      "    accuracy                           0.87       114\n",
      "   macro avg       0.88      0.86      0.87       114\n",
      "weighted avg       0.87      0.87      0.87       114\n",
      "\n",
      "[[43 11]\n",
      " [ 4 56]]\n"
     ]
    }
   ],
   "source": [
    "print(classification_report(y_test, y_pred_sklearn))\n",
    "\n",
    "print(confusion_matrix(y_test, y_pred_sklearn))"
   ]
  },
  {
   "cell_type": "code",
   "execution_count": 11,
   "metadata": {},
   "outputs": [
    {
     "data": {
      "image/png": "[encoded data removed]",
      "text/plain": [
       "<Figure size 432x288 with 1 Axes>"
      ]
     },
     "metadata": {
      "needs_background": "light"
     },
     "output_type": "display_data"
    }
   ],
   "source": [
    "df_y_comparation = pd.DataFrame(data={\"y_pred\": y_pred[:,0].tolist(), \"y_pred_sklearn\":y_pred_sklearn.tolist()})\n",
    "\n",
    "sns.lineplot(x=np.arange(len(df_y_comparation)), y=df_y_comparation[\"y_pred\"])\n",
    "sns.lineplot(x=np.arange(len(df_y_comparation)), y=df_y_comparation[\"y_pred_sklearn\"]);"
   ]
  },
  {
   "cell_type": "code",
   "execution_count": null,
   "metadata": {},
   "outputs": [],
   "source": []
  }
 ],
 "metadata": {
  "kernelspec": {
   "display_name": "Python 3",
   "language": "python",
   "name": "python3"
  },
  "language_info": {
   "codemirror_mode": {
    "name": "ipython",
    "version": 3
   },
   "file_extension": ".py",
   "mimetype": "text/x-python",
   "name": "python",
   "nbconvert_exporter": "python",
   "pygments_lexer": "ipython3",
   "version": "3.7.6"
  }
 },
 "nbformat": 4,
 "nbformat_minor": 4
}
